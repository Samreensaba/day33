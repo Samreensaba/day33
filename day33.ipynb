{
 "cells": [
  {
   "cell_type": "code",
   "execution_count": null,
   "id": "078f0ef7-c635-43da-b01b-8a28fc68e44d",
   "metadata": {},
   "outputs": [],
   "source": [
    "import os, time\n",
    "title = \"\\033[34m To Do List Manager \\033[0m\"\n",
    "print(f\"{title: ^60}\")\n",
    "print()\n",
    "toDoList = []\n",
    "def printList():\n",
    "  print() \n",
    "  for item in toDoList:\n",
    "    print(f\"{item: ^10}\")\n",
    "  print() \n",
    "\n",
    "while True:\n",
    "  menu = input(\"Do you want view, add or edit the list? \")\n",
    "  if menu == \"add\":\n",
    "    item = input(\"Who should I add to the to do list?: \")\n",
    "    toDoList.append(item)\n",
    "  elif menu == \"edit\":\n",
    "    item = input(\"Who should I remove from the to do list?: \")\n",
    "    if item in toDoList:\n",
    "      toDoList.remove(item)\n",
    "    else:\n",
    "      print(f\"{item} was not in the list\")\n",
    "  elif menu == \"view\":\n",
    "    print(\"Here is you To Do List: \")\n",
    "  printList()\n",
    "  time.sleep(2)\n",
    "  os.system(\"clear\")\n",
    "  print(f\"{title: ^60}\")"
   ]
  }
 ],
 "metadata": {
  "kernelspec": {
   "display_name": "Python 3 (ipykernel)",
   "language": "python",
   "name": "python3"
  },
  "language_info": {
   "codemirror_mode": {
    "name": "ipython",
    "version": 3
   },
   "file_extension": ".py",
   "mimetype": "text/x-python",
   "name": "python",
   "nbconvert_exporter": "python",
   "pygments_lexer": "ipython3",
   "version": "3.12.4"
  }
 },
 "nbformat": 4,
 "nbformat_minor": 5
}
